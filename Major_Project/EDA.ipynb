{
 "cells": [
  {
   "cell_type": "code",
   "execution_count": 1,
   "id": "644a394f",
   "metadata": {},
   "outputs": [],
   "source": [
    "import numpy as np\n",
    "import matplotlib.pyplot as plt\n",
    "import seaborn as sns\n",
    "import os\n",
    "import pandas as pd\n",
    "import pyarrow as pa\n",
    "import pyarrow.parquet as pq\n",
    "from tqdm import tqdm\n",
    "import gc\n",
    "import collections "
   ]
  },
  {
   "cell_type": "markdown",
   "id": "c91709dc",
   "metadata": {},
   "source": [
    "#### Exploring the dataset and looking if the dataset could be generate biases in the model towards it."
   ]
  },
  {
   "cell_type": "markdown",
   "id": "23170041",
   "metadata": {},
   "source": [
    "#### Counting the Number of malicious and normal labels across all the "
   ]
  },
  {
   "cell_type": "code",
   "execution_count": 2,
   "id": "c3027434",
   "metadata": {},
   "outputs": [],
   "source": [
    "parquet_dir = \"/home/saurav/Desktop/Internship/Internship-Task/Major_Project/UNSW-NB15/Payload-Bytes-Modified/\"\n",
    "label_counter = collections.Counter()"
   ]
  },
  {
   "cell_type": "code",
   "execution_count": 4,
   "metadata": {},
   "outputs": [
    {
     "name": "stdout",
     "output_type": "stream",
     "text": [
      "Processing file:1 Payload_Bytes_File_3.parquet\n",
      "Processing file:2 Payload_Bytes_File_4.parquet\n",
      "Processing file:3 Payload_Bytes_File_18.parquet\n",
      "Processing file:4 Payload_Bytes_File_14.parquet\n",
      "Processing file:5 Payload_Bytes_File_1.parquet\n",
      "Processing file:6 Payload_Bytes_File_15.parquet\n",
      "Processing file:7 Payload_Bytes_File_9.parquet\n",
      "Processing file:8 Payload_Bytes_File_8.parquet\n",
      "Processing file:9 Payload_Bytes_File_7.parquet\n",
      "Processing file:10 Payload_Bytes_File_17.parquet\n",
      "Processing file:11 Payload_Bytes_File_12.parquet\n",
      "Processing file:12 Payload_Bytes_File_5.parquet\n",
      "Processing file:13 Payload_Bytes_File_10.parquet\n",
      "Processing file:14 Payload_Bytes_File_2.parquet\n",
      "Processing file:15 Payload_Bytes_File_11.parquet\n",
      "Processing file:16 Payload_Bytes_File_13.parquet\n",
      "Processing file:17 Payload_Bytes_File_16.parquet\n"
     ]
    }
   ],
   "source": [
    "#For multiclassification\n",
    "for i,fname in enumerate(os.listdir(parquet_dir)):\n",
    "    global label_counter\n",
    "    file_path = os.path.join(parquet_dir,fname)\n",
    "    if fname == \"Payload_Bytes_File_6.parquet\":\n",
    "        continue\n",
    "    file_parquet= pq.ParquetFile(file_path)\n",
    "    print(f\"Processing file:{i + 1} {fname}\")\n",
    "    for row in range(file_parquet.num_row_groups):\n",
    "        row_data = file_parquet.read_row_group(row).to_pandas()\n",
    "        label_counter.update(row_data['attack_type'])\n",
    "            "
   ]
  },
  {
   "cell_type": "code",
   "execution_count": 6,
   "id": "3472274b",
   "metadata": {},
   "outputs": [
    {
     "data": {
      "text/plain": [
       "Counter({0: 41430383,\n",
       "         1: 809614,\n",
       "         2: 215577,\n",
       "         4: 107569,\n",
       "         3: 54697,\n",
       "         5: 20484,\n",
       "         8: 5626,\n",
       "         6: 4952,\n",
       "         9: 3624,\n",
       "         7: 1510})"
      ]
     },
     "execution_count": 6,
     "metadata": {},
     "output_type": "execute_result"
    }
   ],
   "source": [
    "label_counter"
   ]
  },
  {
   "cell_type": "markdown",
   "id": "ddcdb9d0",
   "metadata": {},
   "source": [
    "### Plotting the label across all the parquet files:"
   ]
  },
  {
   "cell_type": "code",
   "execution_count": null,
   "id": "946f2137",
   "metadata": {},
   "outputs": [
    {
     "name": "stderr",
     "output_type": "stream",
     "text": [
      "/tmp/ipykernel_1174926/42486958.py:4: FutureWarning: \n",
      "\n",
      "Passing `palette` without assigning `hue` is deprecated and will be removed in v0.14.0. Assign the `x` variable to `hue` and set `legend=False` for the same effect.\n",
      "\n",
      "  sns.barplot(x=labels, y=counts, palette='viridis')\n"
     ]
    },
    {
     "data": {
      "text/plain": [
       "Text(0.5, 0, 'Attack Type')"
      ]
     },
     "execution_count": 13,
     "metadata": {},
     "output_type": "execute_result"
    },
    {
     "data": {
      "image/png": "[encoded data removed]",
      "text/plain": [
       "<Figure size 1200x600 with 1 Axes>"
      ]
     },
     "metadata": {},
     "output_type": "display_data"
    }
   ],
   "source": [
    "labels = list(label_counter.keys())\n",
    "counts = list(label_counter.values())\n",
    "plt.figure(figsize=(12, 6))\n",
    "sns.barplot(x=labels, y=counts, palette='viridis')\n",
    "plt.xticks(rotation=90)\n",
    "plt.xlabel('Attack Type')   \n"
   ]
  },
  {
   "cell_type": "code",
   "execution_count": 14,
   "id": "0440a712",
   "metadata": {},
   "outputs": [
    {
     "data": {
      "text/plain": [
       "Counter({0: 41430383,\n",
       "         1: 809614,\n",
       "         2: 215577,\n",
       "         4: 107569,\n",
       "         3: 54697,\n",
       "         5: 20484,\n",
       "         8: 5626,\n",
       "         6: 4952,\n",
       "         9: 3624,\n",
       "         7: 1510})"
      ]
     },
     "execution_count": 14,
     "metadata": {},
     "output_type": "execute_result"
    }
   ],
   "source": [
    "label_counter\n"
   ]
  },
  {
   "cell_type": "markdown",
   "id": "2b0f7972",
   "metadata": {},
   "source": [
    "### So, the classes are hugely imbalanced. So, we need to perform some techniques for mitigating this unbalanced problem"
   ]
  },
  {
   "cell_type": "markdown",
   "id": "10b7d6c2",
   "metadata": {},
   "source": [
    "## *Payload Length Distribution*"
   ]
  },
  {
   "cell_type": "code",
   "execution_count": 6,
   "id": "5d1d8a72",
   "metadata": {},
   "outputs": [
    {
     "name": "stderr",
     "output_type": "stream",
     "text": [
      "  0%|          | 0/18 [00:00<?, ?it/s]"
     ]
    },
    {
     "name": "stdout",
     "output_type": "stream",
     "text": [
      "Processing file: Payload_Bytes_File_3.parquet\n"
     ]
    },
    {
     "name": "stderr",
     "output_type": "stream",
     "text": [
      "  6%|▌         | 1/18 [00:26<07:33, 26.69s/it]"
     ]
    },
    {
     "name": "stdout",
     "output_type": "stream",
     "text": [
      "Processing file: Payload_Bytes_File_4.parquet\n"
     ]
    },
    {
     "name": "stderr",
     "output_type": "stream",
     "text": [
      " 11%|█         | 2/18 [00:52<07:01, 26.36s/it]"
     ]
    },
    {
     "name": "stdout",
     "output_type": "stream",
     "text": [
      "Processing file: Payload_Bytes_File_18.parquet\n"
     ]
    },
    {
     "name": "stderr",
     "output_type": "stream",
     "text": [
      " 17%|█▋        | 3/18 [01:19<06:34, 26.30s/it]"
     ]
    },
    {
     "name": "stdout",
     "output_type": "stream",
     "text": [
      "Processing file: Payload_Bytes_File_14.parquet\n"
     ]
    },
    {
     "name": "stderr",
     "output_type": "stream",
     "text": [
      " 22%|██▏       | 4/18 [01:46<06:16, 26.86s/it]"
     ]
    },
    {
     "name": "stdout",
     "output_type": "stream",
     "text": [
      "Processing file: Payload_Bytes_File_1.parquet\n"
     ]
    },
    {
     "name": "stderr",
     "output_type": "stream",
     "text": [
      " 28%|██▊       | 5/18 [02:13<05:49, 26.92s/it]"
     ]
    },
    {
     "name": "stdout",
     "output_type": "stream",
     "text": [
      "Processing file: Payload_Bytes_File_15.parquet\n"
     ]
    },
    {
     "name": "stderr",
     "output_type": "stream",
     "text": [
      " 33%|███▎      | 6/18 [02:40<05:23, 26.94s/it]"
     ]
    },
    {
     "name": "stdout",
     "output_type": "stream",
     "text": [
      "Processing file: Payload_Bytes_File_9.parquet\n"
     ]
    },
    {
     "name": "stderr",
     "output_type": "stream",
     "text": [
      " 39%|███▉      | 7/18 [03:07<04:54, 26.78s/it]"
     ]
    },
    {
     "name": "stdout",
     "output_type": "stream",
     "text": [
      "Processing file: Payload_Bytes_File_8.parquet\n"
     ]
    },
    {
     "name": "stderr",
     "output_type": "stream",
     "text": [
      " 44%|████▍     | 8/18 [03:33<04:26, 26.66s/it]"
     ]
    },
    {
     "name": "stdout",
     "output_type": "stream",
     "text": [
      "Processing file: Payload_Bytes_File_7.parquet\n"
     ]
    },
    {
     "name": "stderr",
     "output_type": "stream",
     "text": [
      " 50%|█████     | 9/18 [04:00<04:01, 26.86s/it]"
     ]
    },
    {
     "name": "stdout",
     "output_type": "stream",
     "text": [
      "Processing file: Payload_Bytes_File_17.parquet\n"
     ]
    },
    {
     "name": "stderr",
     "output_type": "stream",
     "text": [
      " 56%|█████▌    | 10/18 [04:29<03:38, 27.34s/it]"
     ]
    },
    {
     "name": "stdout",
     "output_type": "stream",
     "text": [
      "Processing file: Payload_Bytes_File_12.parquet\n"
     ]
    },
    {
     "name": "stderr",
     "output_type": "stream",
     "text": [
      " 61%|██████    | 11/18 [04:56<03:11, 27.36s/it]"
     ]
    },
    {
     "name": "stdout",
     "output_type": "stream",
     "text": [
      "Processing file: Payload_Bytes_File_5.parquet\n"
     ]
    },
    {
     "name": "stderr",
     "output_type": "stream",
     "text": [
      " 67%|██████▋   | 12/18 [05:24<02:45, 27.58s/it]"
     ]
    },
    {
     "name": "stdout",
     "output_type": "stream",
     "text": [
      "Processing file: Payload_Bytes_File_10.parquet\n"
     ]
    },
    {
     "name": "stderr",
     "output_type": "stream",
     "text": [
      " 72%|███████▏  | 13/18 [05:52<02:17, 27.58s/it]"
     ]
    },
    {
     "name": "stdout",
     "output_type": "stream",
     "text": [
      "Processing file: Payload_Bytes_File_2.parquet\n"
     ]
    },
    {
     "name": "stderr",
     "output_type": "stream",
     "text": [
      " 78%|███████▊  | 14/18 [06:19<01:50, 27.58s/it]"
     ]
    },
    {
     "name": "stdout",
     "output_type": "stream",
     "text": [
      "Processing file: Payload_Bytes_File_11.parquet\n"
     ]
    },
    {
     "name": "stderr",
     "output_type": "stream",
     "text": [
      " 83%|████████▎ | 15/18 [06:46<01:22, 27.38s/it]"
     ]
    },
    {
     "name": "stdout",
     "output_type": "stream",
     "text": [
      "Processing file: Payload_Bytes_File_13.parquet\n"
     ]
    },
    {
     "name": "stderr",
     "output_type": "stream",
     "text": [
      " 89%|████████▉ | 16/18 [07:20<00:58, 29.39s/it]"
     ]
    },
    {
     "name": "stdout",
     "output_type": "stream",
     "text": [
      "Processing file: Payload_Bytes_File_16.parquet\n"
     ]
    },
    {
     "name": "stderr",
     "output_type": "stream",
     "text": [
      "100%|██████████| 18/18 [07:56<00:00, 26.47s/it]\n"
     ]
    }
   ],
   "source": [
    "payload_lengths = []\n",
    "\n",
    "for file in tqdm(os.listdir(parquet_dir)):\n",
    "    file_path = os.path.join(parquet_dir,file)\n",
    "    if file == \"Payload_Bytes_File_6.parquet\":\n",
    "        continue\n",
    "    file_parquet = pq.ParquetFile(file_path)\n",
    "    print(f\"Processing file: {file}\")\n",
    "    for row in range(file_parquet.num_row_groups):\n",
    "        df = file_parquet.read_row_group(row).to_pandas()\n",
    "        byte_columns = df.columns[df.columns.str.startswith(\"payload_byte_\")]\n",
    "        payload = df[byte_columns]\n",
    "        lengths = (payload != 0).sum(axis=1)\n",
    "        payload_lengths.extend(lengths.tolist())"
   ]
  },
  {
   "cell_type": "code",
   "execution_count": 4,
   "id": "8633190b",
   "metadata": {},
   "outputs": [],
   "source": [
    "payload_lengths.sort()"
   ]
  },
  {
   "cell_type": "code",
   "execution_count": null,
   "id": "8a93e1d3",
   "metadata": {},
   "outputs": [
    {
     "data": {
      "text/plain": [
       "42654036"
      ]
     },
     "execution_count": 6,
     "metadata": {},
     "output_type": "execute_result"
    }
   ],
   "source": [
    "payload_lengths"
   ]
  },
  {
   "cell_type": "code",
   "execution_count": 8,
   "id": "7cd250c5",
   "metadata": {},
   "outputs": [
    {
     "data": {
      "image/png": "[encoded data removed]",
      "text/plain": [
       "<Figure size 1200x600 with 1 Axes>"
      ]
     },
     "metadata": {},
     "output_type": "display_data"
    },
    {
     "data": {
      "text/plain": [
       "<Figure size 640x480 with 0 Axes>"
      ]
     },
     "metadata": {},
     "output_type": "display_data"
    }
   ],
   "source": [
    "plt.figure(figsize=(12,6))\n",
    "plt.hist(payload_lengths, bins=100,color='blue', edgecolor='k',alpha=0.7)\n",
    "plt.title(\"Distribution of Payload Lengths\")\n",
    "plt.xlabel(\"Payload Length (non-zero bytes)\")\n",
    "plt.ylabel(\"Number of Packets\")\n",
    "plt.grid(axis='y', linestyle='--', alpha=0.7)\n",
    "plt.tight_layout()\n",
    "plt.show()\n",
    "plt.savefig(\"payload_lengths_distribution.png\", dpi=300)"
   ]
  },
  {
   "cell_type": "markdown",
   "id": "c821a6aa",
   "metadata": {},
   "source": [
    "### Byte value frequency Patterns per Class"
   ]
  },
  {
   "cell_type": "code",
   "execution_count": 57,
   "id": "f73530a7",
   "metadata": {},
   "outputs": [
    {
     "name": "stderr",
     "output_type": "stream",
     "text": [
      "  0%|          | 0/18 [00:00<?, ?it/s]"
     ]
    },
    {
     "name": "stdout",
     "output_type": "stream",
     "text": [
      "Processing file: Payload_Bytes_File_3.parquet\n"
     ]
    },
    {
     "name": "stderr",
     "output_type": "stream",
     "text": [
      "  0%|          | 0/18 [00:01<?, ?it/s]\n"
     ]
    },
    {
     "ename": "UFuncTypeError",
     "evalue": "Cannot cast ufunc 'add' output from dtype('float64') to dtype('uint64') with casting rule 'same_kind'",
     "output_type": "error",
     "traceback": [
      "\u001b[31m---------------------------------------------------------------------------\u001b[39m",
      "\u001b[31mUFuncTypeError\u001b[39m                            Traceback (most recent call last)",
      "\u001b[36mCell\u001b[39m\u001b[36m \u001b[39m\u001b[32mIn[57]\u001b[39m\u001b[32m, line 24\u001b[39m\n\u001b[32m     22\u001b[39m \u001b[38;5;66;03m#Flatten and count byte values\u001b[39;00m\n\u001b[32m     23\u001b[39m byte_counts = np.bincount(class_data.ravel(),minlength = \u001b[32m256\u001b[39m)\n\u001b[32m---> \u001b[39m\u001b[32m24\u001b[39m \u001b[43mbyte_freq_per_class\u001b[49m\u001b[43m[\u001b[49m\u001b[43mlabel\u001b[49m\u001b[43m]\u001b[49m\u001b[43m \u001b[49m\u001b[43m+\u001b[49m\u001b[43m=\u001b[49m\u001b[43m \u001b[49m\u001b[43mbyte_counts\u001b[49m\n\u001b[32m     25\u001b[39m class_sample_count[label] += class_data.shape[\u001b[32m0\u001b[39m]\n",
      "\u001b[31mUFuncTypeError\u001b[39m: Cannot cast ufunc 'add' output from dtype('float64') to dtype('uint64') with casting rule 'same_kind'"
     ]
    }
   ],
   "source": [
    "#Accumulators\n",
    "byte_freq_per_class = collections.defaultdict(lambda:np.zeros(256,dtype=np.uint64))\n",
    "class_sample_count = collections.defaultdict(int)\n",
    "\n",
    "for file in tqdm(os.listdir(parquet_dir)):\n",
    "    file_path = os.path.join(parquet_dir,file)\n",
    "    if file == \"Payload_Bytes_File_6.parquet\":\n",
    "        continue\n",
    "    file_parquet = pq.ParquetFile(file_path)\n",
    "    print(f\"Processing file: {file}\")\n",
    "    for row in range(file_parquet.num_row_groups):\n",
    "        df = file_parquet.read_row_group(row).to_pandas()\n",
    "\n",
    "        label_col = df['attack_type']\n",
    "        byte_columns = df.columns[df.columns.str.startswith(\"payload_byte_\")]\n",
    "        payload = df[byte_columns].values\n",
    "        \n",
    "        for label in np.unique(label_col):\n",
    "            class_mask = label_col == label\n",
    "            class_data = payload[class_mask]\n",
    "\n",
    "            #Flatten and count byte values\n",
    "            byte_counts = np.bincount(class_data.ravel(),minlength = 256)\n",
    "            byte_freq_per_class[label] += byte_counts\n",
    "            class_sample_count[label] += class_data.shape[0]"
   ]
  },
  {
   "cell_type": "code",
   "execution_count": 65,
   "id": "4363d82e",
   "metadata": {},
   "outputs": [],
   "source": [
    "dff = file_parquet.read_row_group(0).to_pandas()\n",
    "\n",
    "label_col = dff['attack_type']\n",
    "byte_columns = dff.columns[dff.columns.str.startswith(\"payload_byte_\")]\n",
    "payload = dff[byte_columns].values"
   ]
  },
  {
   "cell_type": "code",
   "execution_count": 66,
   "id": "4fed3a55",
   "metadata": {},
   "outputs": [
    {
     "data": {
      "text/plain": [
       "array([0, 0, 0, 0, 0, 0, 0, 0, 0, 0, 0, 0, 0, 0, 0, 0, 0, 0, 0, 0, 0, 0,\n",
       "       0, 0, 0, 0, 0, 0, 0, 0, 0, 0, 0, 0, 0, 0, 0, 0, 0, 0, 0, 0, 0, 0,\n",
       "       0, 0, 0, 0, 0, 0, 0, 0, 0, 0, 0, 0, 0, 0, 0, 0, 0, 0, 0, 0, 0, 0,\n",
       "       0, 0, 0, 0, 0, 0, 0, 0, 0, 0, 0, 0, 0, 0, 0, 0, 0, 0, 0, 0, 0, 0,\n",
       "       0, 0, 0, 0, 0, 0, 0, 0, 0, 0, 0, 0, 0, 0, 0, 0, 0, 0, 0, 0, 0, 0,\n",
       "       0, 0, 0, 0, 0, 0, 0, 0, 0, 0, 0, 0, 0, 0, 0, 0, 0, 0, 0, 0, 0, 0,\n",
       "       0, 0, 0, 0, 0, 0, 0, 0, 0, 0, 0, 0, 0, 0, 0, 0, 0, 0, 0, 0, 0, 0,\n",
       "       0, 0, 0, 0, 0, 0, 0, 0, 0, 0, 0, 0, 0, 0, 0, 0, 0, 0, 0, 0, 0, 0,\n",
       "       0, 0, 0, 0, 0, 0, 0, 0, 0, 0, 0, 0, 0, 0, 0, 0, 0, 0, 0, 0, 0, 0,\n",
       "       0, 0, 0, 0, 0, 0, 0, 0, 0, 0, 0, 0, 0, 0, 0, 0, 0, 0, 0, 0, 0, 0,\n",
       "       0, 0, 0, 0, 0, 0, 0, 0, 0, 0, 0, 0, 0, 0, 0, 0, 0, 0, 0, 0, 0, 0,\n",
       "       0, 0, 0, 0, 0, 0, 0, 0, 0, 0, 0, 0, 0, 0])"
      ]
     },
     "execution_count": 66,
     "metadata": {},
     "output_type": "execute_result"
    }
   ],
   "source": [
    "np.bincount(payload[label_col == 1].ravel(),minlength=256)"
   ]
  },
  {
   "cell_type": "code",
   "execution_count": 74,
   "id": "22af4277",
   "metadata": {},
   "outputs": [
    {
     "data": {
      "text/html": [
       "<div>\n",
       "<style scoped>\n",
       "    .dataframe tbody tr th:only-of-type {\n",
       "        vertical-align: middle;\n",
       "    }\n",
       "\n",
       "    .dataframe tbody tr th {\n",
       "        vertical-align: top;\n",
       "    }\n",
       "\n",
       "    .dataframe thead th {\n",
       "        text-align: right;\n",
       "    }\n",
       "</style>\n",
       "<table border=\"1\" class=\"dataframe\">\n",
       "  <thead>\n",
       "    <tr style=\"text-align: right;\">\n",
       "      <th></th>\n",
       "      <th>payload_byte_1</th>\n",
       "      <th>payload_byte_2</th>\n",
       "      <th>payload_byte_3</th>\n",
       "      <th>payload_byte_4</th>\n",
       "      <th>payload_byte_5</th>\n",
       "      <th>payload_byte_6</th>\n",
       "      <th>payload_byte_7</th>\n",
       "      <th>payload_byte_8</th>\n",
       "      <th>payload_byte_9</th>\n",
       "      <th>payload_byte_10</th>\n",
       "      <th>...</th>\n",
       "      <th>payload_byte_1469</th>\n",
       "      <th>payload_byte_1470</th>\n",
       "      <th>payload_byte_1471</th>\n",
       "      <th>payload_byte_1472</th>\n",
       "      <th>payload_byte_1473</th>\n",
       "      <th>payload_byte_1474</th>\n",
       "      <th>payload_byte_1475</th>\n",
       "      <th>payload_byte_1476</th>\n",
       "      <th>attack_label</th>\n",
       "      <th>attack_type</th>\n",
       "    </tr>\n",
       "  </thead>\n",
       "  <tbody>\n",
       "    <tr>\n",
       "      <th>0</th>\n",
       "      <td>185</td>\n",
       "      <td>95</td>\n",
       "      <td>236</td>\n",
       "      <td>64</td>\n",
       "      <td>248</td>\n",
       "      <td>127</td>\n",
       "      <td>162</td>\n",
       "      <td>227</td>\n",
       "      <td>67</td>\n",
       "      <td>150</td>\n",
       "      <td>...</td>\n",
       "      <td>0</td>\n",
       "      <td>0</td>\n",
       "      <td>0</td>\n",
       "      <td>0</td>\n",
       "      <td>0</td>\n",
       "      <td>0</td>\n",
       "      <td>0</td>\n",
       "      <td>0</td>\n",
       "      <td>0</td>\n",
       "      <td>0</td>\n",
       "    </tr>\n",
       "    <tr>\n",
       "      <th>1</th>\n",
       "      <td>33</td>\n",
       "      <td>121</td>\n",
       "      <td>41</td>\n",
       "      <td>152</td>\n",
       "      <td>97</td>\n",
       "      <td>115</td>\n",
       "      <td>83</td>\n",
       "      <td>179</td>\n",
       "      <td>159</td>\n",
       "      <td>6</td>\n",
       "      <td>...</td>\n",
       "      <td>0</td>\n",
       "      <td>0</td>\n",
       "      <td>0</td>\n",
       "      <td>0</td>\n",
       "      <td>0</td>\n",
       "      <td>0</td>\n",
       "      <td>0</td>\n",
       "      <td>0</td>\n",
       "      <td>0</td>\n",
       "      <td>0</td>\n",
       "    </tr>\n",
       "    <tr>\n",
       "      <th>2</th>\n",
       "      <td>202</td>\n",
       "      <td>30</td>\n",
       "      <td>211</td>\n",
       "      <td>200</td>\n",
       "      <td>120</td>\n",
       "      <td>28</td>\n",
       "      <td>86</td>\n",
       "      <td>149</td>\n",
       "      <td>43</td>\n",
       "      <td>129</td>\n",
       "      <td>...</td>\n",
       "      <td>0</td>\n",
       "      <td>0</td>\n",
       "      <td>0</td>\n",
       "      <td>0</td>\n",
       "      <td>0</td>\n",
       "      <td>0</td>\n",
       "      <td>0</td>\n",
       "      <td>0</td>\n",
       "      <td>0</td>\n",
       "      <td>0</td>\n",
       "    </tr>\n",
       "    <tr>\n",
       "      <th>3</th>\n",
       "      <td>234</td>\n",
       "      <td>104</td>\n",
       "      <td>216</td>\n",
       "      <td>10</td>\n",
       "      <td>186</td>\n",
       "      <td>204</td>\n",
       "      <td>20</td>\n",
       "      <td>138</td>\n",
       "      <td>220</td>\n",
       "      <td>153</td>\n",
       "      <td>...</td>\n",
       "      <td>0</td>\n",
       "      <td>0</td>\n",
       "      <td>0</td>\n",
       "      <td>0</td>\n",
       "      <td>0</td>\n",
       "      <td>0</td>\n",
       "      <td>0</td>\n",
       "      <td>0</td>\n",
       "      <td>0</td>\n",
       "      <td>0</td>\n",
       "    </tr>\n",
       "    <tr>\n",
       "      <th>4</th>\n",
       "      <td>20</td>\n",
       "      <td>95</td>\n",
       "      <td>182</td>\n",
       "      <td>72</td>\n",
       "      <td>136</td>\n",
       "      <td>42</td>\n",
       "      <td>68</td>\n",
       "      <td>204</td>\n",
       "      <td>2</td>\n",
       "      <td>110</td>\n",
       "      <td>...</td>\n",
       "      <td>0</td>\n",
       "      <td>0</td>\n",
       "      <td>0</td>\n",
       "      <td>0</td>\n",
       "      <td>0</td>\n",
       "      <td>0</td>\n",
       "      <td>0</td>\n",
       "      <td>0</td>\n",
       "      <td>0</td>\n",
       "      <td>0</td>\n",
       "    </tr>\n",
       "    <tr>\n",
       "      <th>...</th>\n",
       "      <td>...</td>\n",
       "      <td>...</td>\n",
       "      <td>...</td>\n",
       "      <td>...</td>\n",
       "      <td>...</td>\n",
       "      <td>...</td>\n",
       "      <td>...</td>\n",
       "      <td>...</td>\n",
       "      <td>...</td>\n",
       "      <td>...</td>\n",
       "      <td>...</td>\n",
       "      <td>...</td>\n",
       "      <td>...</td>\n",
       "      <td>...</td>\n",
       "      <td>...</td>\n",
       "      <td>...</td>\n",
       "      <td>...</td>\n",
       "      <td>...</td>\n",
       "      <td>...</td>\n",
       "      <td>...</td>\n",
       "      <td>...</td>\n",
       "    </tr>\n",
       "    <tr>\n",
       "      <th>99995</th>\n",
       "      <td>178</td>\n",
       "      <td>56</td>\n",
       "      <td>159</td>\n",
       "      <td>4</td>\n",
       "      <td>50</td>\n",
       "      <td>143</td>\n",
       "      <td>203</td>\n",
       "      <td>148</td>\n",
       "      <td>34</td>\n",
       "      <td>41</td>\n",
       "      <td>...</td>\n",
       "      <td>0</td>\n",
       "      <td>0</td>\n",
       "      <td>0</td>\n",
       "      <td>0</td>\n",
       "      <td>0</td>\n",
       "      <td>0</td>\n",
       "      <td>0</td>\n",
       "      <td>0</td>\n",
       "      <td>0</td>\n",
       "      <td>0</td>\n",
       "    </tr>\n",
       "    <tr>\n",
       "      <th>99996</th>\n",
       "      <td>250</td>\n",
       "      <td>235</td>\n",
       "      <td>154</td>\n",
       "      <td>154</td>\n",
       "      <td>96</td>\n",
       "      <td>128</td>\n",
       "      <td>157</td>\n",
       "      <td>173</td>\n",
       "      <td>169</td>\n",
       "      <td>71</td>\n",
       "      <td>...</td>\n",
       "      <td>0</td>\n",
       "      <td>0</td>\n",
       "      <td>0</td>\n",
       "      <td>0</td>\n",
       "      <td>0</td>\n",
       "      <td>0</td>\n",
       "      <td>0</td>\n",
       "      <td>0</td>\n",
       "      <td>0</td>\n",
       "      <td>0</td>\n",
       "    </tr>\n",
       "    <tr>\n",
       "      <th>99997</th>\n",
       "      <td>125</td>\n",
       "      <td>85</td>\n",
       "      <td>137</td>\n",
       "      <td>230</td>\n",
       "      <td>222</td>\n",
       "      <td>252</td>\n",
       "      <td>10</td>\n",
       "      <td>224</td>\n",
       "      <td>98</td>\n",
       "      <td>143</td>\n",
       "      <td>...</td>\n",
       "      <td>0</td>\n",
       "      <td>0</td>\n",
       "      <td>0</td>\n",
       "      <td>0</td>\n",
       "      <td>0</td>\n",
       "      <td>0</td>\n",
       "      <td>0</td>\n",
       "      <td>0</td>\n",
       "      <td>0</td>\n",
       "      <td>0</td>\n",
       "    </tr>\n",
       "    <tr>\n",
       "      <th>99998</th>\n",
       "      <td>232</td>\n",
       "      <td>36</td>\n",
       "      <td>74</td>\n",
       "      <td>16</td>\n",
       "      <td>66</td>\n",
       "      <td>78</td>\n",
       "      <td>0</td>\n",
       "      <td>229</td>\n",
       "      <td>121</td>\n",
       "      <td>110</td>\n",
       "      <td>...</td>\n",
       "      <td>0</td>\n",
       "      <td>0</td>\n",
       "      <td>0</td>\n",
       "      <td>0</td>\n",
       "      <td>0</td>\n",
       "      <td>0</td>\n",
       "      <td>0</td>\n",
       "      <td>0</td>\n",
       "      <td>0</td>\n",
       "      <td>0</td>\n",
       "    </tr>\n",
       "    <tr>\n",
       "      <th>99999</th>\n",
       "      <td>81</td>\n",
       "      <td>178</td>\n",
       "      <td>168</td>\n",
       "      <td>224</td>\n",
       "      <td>0</td>\n",
       "      <td>0</td>\n",
       "      <td>0</td>\n",
       "      <td>1</td>\n",
       "      <td>0</td>\n",
       "      <td>0</td>\n",
       "      <td>...</td>\n",
       "      <td>0</td>\n",
       "      <td>0</td>\n",
       "      <td>0</td>\n",
       "      <td>0</td>\n",
       "      <td>0</td>\n",
       "      <td>0</td>\n",
       "      <td>0</td>\n",
       "      <td>0</td>\n",
       "      <td>0</td>\n",
       "      <td>0</td>\n",
       "    </tr>\n",
       "  </tbody>\n",
       "</table>\n",
       "<p>100000 rows × 1478 columns</p>\n",
       "</div>"
      ],
      "text/plain": [
       "       payload_byte_1  payload_byte_2  payload_byte_3  payload_byte_4  \\\n",
       "0                 185              95             236              64   \n",
       "1                  33             121              41             152   \n",
       "2                 202              30             211             200   \n",
       "3                 234             104             216              10   \n",
       "4                  20              95             182              72   \n",
       "...               ...             ...             ...             ...   \n",
       "99995             178              56             159               4   \n",
       "99996             250             235             154             154   \n",
       "99997             125              85             137             230   \n",
       "99998             232              36              74              16   \n",
       "99999              81             178             168             224   \n",
       "\n",
       "       payload_byte_5  payload_byte_6  payload_byte_7  payload_byte_8  \\\n",
       "0                 248             127             162             227   \n",
       "1                  97             115              83             179   \n",
       "2                 120              28              86             149   \n",
       "3                 186             204              20             138   \n",
       "4                 136              42              68             204   \n",
       "...               ...             ...             ...             ...   \n",
       "99995              50             143             203             148   \n",
       "99996              96             128             157             173   \n",
       "99997             222             252              10             224   \n",
       "99998              66              78               0             229   \n",
       "99999               0               0               0               1   \n",
       "\n",
       "       payload_byte_9  payload_byte_10  ...  payload_byte_1469  \\\n",
       "0                  67              150  ...                  0   \n",
       "1                 159                6  ...                  0   \n",
       "2                  43              129  ...                  0   \n",
       "3                 220              153  ...                  0   \n",
       "4                   2              110  ...                  0   \n",
       "...               ...              ...  ...                ...   \n",
       "99995              34               41  ...                  0   \n",
       "99996             169               71  ...                  0   \n",
       "99997              98              143  ...                  0   \n",
       "99998             121              110  ...                  0   \n",
       "99999               0                0  ...                  0   \n",
       "\n",
       "       payload_byte_1470  payload_byte_1471  payload_byte_1472  \\\n",
       "0                      0                  0                  0   \n",
       "1                      0                  0                  0   \n",
       "2                      0                  0                  0   \n",
       "3                      0                  0                  0   \n",
       "4                      0                  0                  0   \n",
       "...                  ...                ...                ...   \n",
       "99995                  0                  0                  0   \n",
       "99996                  0                  0                  0   \n",
       "99997                  0                  0                  0   \n",
       "99998                  0                  0                  0   \n",
       "99999                  0                  0                  0   \n",
       "\n",
       "       payload_byte_1473  payload_byte_1474  payload_byte_1475  \\\n",
       "0                      0                  0                  0   \n",
       "1                      0                  0                  0   \n",
       "2                      0                  0                  0   \n",
       "3                      0                  0                  0   \n",
       "4                      0                  0                  0   \n",
       "...                  ...                ...                ...   \n",
       "99995                  0                  0                  0   \n",
       "99996                  0                  0                  0   \n",
       "99997                  0                  0                  0   \n",
       "99998                  0                  0                  0   \n",
       "99999                  0                  0                  0   \n",
       "\n",
       "       payload_byte_1476  attack_label  attack_type  \n",
       "0                      0             0            0  \n",
       "1                      0             0            0  \n",
       "2                      0             0            0  \n",
       "3                      0             0            0  \n",
       "4                      0             0            0  \n",
       "...                  ...           ...          ...  \n",
       "99995                  0             0            0  \n",
       "99996                  0             0            0  \n",
       "99997                  0             0            0  \n",
       "99998                  0             0            0  \n",
       "99999                  0             0            0  \n",
       "\n",
       "[100000 rows x 1478 columns]"
      ]
     },
     "execution_count": 74,
     "metadata": {},
     "output_type": "execute_result"
    }
   ],
   "source": [
    "dff"
   ]
  },
  {
   "cell_type": "code",
   "execution_count": 71,
   "id": "d83ef3bd",
   "metadata": {},
   "outputs": [
    {
     "data": {
      "text/plain": [
       "attack_type\n",
       "0    100000\n",
       "Name: count, dtype: int64"
      ]
     },
     "execution_count": 71,
     "metadata": {},
     "output_type": "execute_result"
    }
   ],
   "source": [
    "label_col.value_counts()"
   ]
  },
  {
   "cell_type": "code",
   "execution_count": null,
   "id": "56950e6c",
   "metadata": {},
   "outputs": [],
   "source": []
  }
 ],
 "metadata": {
  "kernelspec": {
   "display_name": ".py_torch",
   "language": "python",
   "name": "python3"
  },
  "language_info": {
   "codemirror_mode": {
    "name": "ipython",
    "version": 3
   },
   "file_extension": ".py",
   "mimetype": "text/x-python",
   "name": "python",
   "nbconvert_exporter": "python",
   "pygments_lexer": "ipython3",
   "version": "3.12.3"
  }
 },
 "nbformat": 4,
 "nbformat_minor": 5
}

{
 "cells": [
  {
   "cell_type": "code",
   "execution_count": 1,
   "id": "644a394f",
   "metadata": {},
   "outputs": [],
   "source": [
    "import numpy as np\n",
    "import matplotlib.pyplot as plt\n",
    "import seaborn as sns\n",
    "import os\n",
    "import pandas as pd\n",
    "import pyarrow as pa\n",
    "import pyarrow.parquet as pq\n",
    "from tqdm import tqdm\n",
    "import gc\n",
    "import collections "
   ]
  },
  {
   "cell_type": "markdown",
   "id": "c91709dc",
   "metadata": {},
   "source": [
    "#### Exploring the dataset and looking if the dataset could be generate biases in the model towards it."
   ]
  },
  {
   "cell_type": "markdown",
   "id": "23170041",
   "metadata": {},
   "source": [
    "#### Counting the Number of malicious and normal labels across all the "
   ]
  },
  {
   "cell_type": "code",
   "execution_count": 2,
   "id": "c3027434",
   "metadata": {},
   "outputs": [],
   "source": [
    "parquet_dir = \"/home/saurav/Desktop/Internship/Internship-Task/Major_Project/UNSW-NB15/Payload-Bytes-Modified/\"\n",
    "label_counter = collections.Counter()"
   ]
  },
  {
   "cell_type": "code",
   "execution_count": 4,
   "metadata": {},
   "outputs": [
    {
     "name": "stdout",
     "output_type": "stream",
     "text": [
      "Processing file:1 Payload_Bytes_File_3.parquet\n",
      "Processing file:2 Payload_Bytes_File_4.parquet\n",
      "Processing file:3 Payload_Bytes_File_18.parquet\n",
      "Processing file:4 Payload_Bytes_File_14.parquet\n",
      "Processing file:5 Payload_Bytes_File_1.parquet\n",
      "Processing file:6 Payload_Bytes_File_15.parquet\n",
      "Processing file:7 Payload_Bytes_File_9.parquet\n",
      "Processing file:8 Payload_Bytes_File_8.parquet\n",
      "Processing file:9 Payload_Bytes_File_7.parquet\n",
      "Processing file:10 Payload_Bytes_File_17.parquet\n",
      "Processing file:11 Payload_Bytes_File_12.parquet\n",
      "Processing file:12 Payload_Bytes_File_5.parquet\n",
      "Processing file:13 Payload_Bytes_File_10.parquet\n",
      "Processing file:14 Payload_Bytes_File_2.parquet\n",
      "Processing file:15 Payload_Bytes_File_11.parquet\n",
      "Processing file:16 Payload_Bytes_File_13.parquet\n",
      "Processing file:17 Payload_Bytes_File_16.parquet\n"
     ]
    }
   ],
   "source": [
    "#For multiclassification\n",
    "for i,fname in enumerate(os.listdir(parquet_dir)):\n",
    "    global label_counter\n",
    "    file_path = os.path.join(parquet_dir,fname)\n",
    "    if fname == \"Payload_Bytes_File_6.parquet\":\n",
    "        continue\n",
    "    file_parquet= pq.ParquetFile(file_path)\n",
    "    print(f\"Processing file:{i + 1} {fname}\")\n",
    "    for row in range(file_parquet.num_row_groups):\n",
    "        row_data = file_parquet.read_row_group(row).to_pandas()\n",
    "        label_counter.update(row_data['attack_type'])\n",
    "            "
   ]
  },
  {
   "cell_type": "code",
   "execution_count": 6,
   "id": "3472274b",
   "metadata": {},
   "outputs": [
    {
     "data": {
      "text/plain": [
       "Counter({0: 41430383,\n",
       "         1: 809614,\n",
       "         2: 215577,\n",
       "         4: 107569,\n",
       "         3: 54697,\n",
       "         5: 20484,\n",
       "         8: 5626,\n",
       "         6: 4952,\n",
       "         9: 3624,\n",
       "         7: 1510})"
      ]
     },
     "execution_count": 6,
     "metadata": {},
     "output_type": "execute_result"
    }
   ],
   "source": [
    "label_counter"
   ]
  },
  {
   "cell_type": "markdown",
   "id": "ddcdb9d0",
   "metadata": {},
   "source": [
    "### Plotting the label across all the parquet files:"
   ]
  },
  {
   "cell_type": "code",
   "execution_count": null,
   "id": "946f2137",
   "metadata": {},
   "outputs": [
    {
     "name": "stderr",
     "output_type": "stream",
     "text": [
      "/tmp/ipykernel_1174926/42486958.py:4: FutureWarning: \n",
      "\n",
      "Passing `palette` without assigning `hue` is deprecated and will be removed in v0.14.0. Assign the `x` variable to `hue` and set `legend=False` for the same effect.\n",
      "\n",
      "  sns.barplot(x=labels, y=counts, palette='viridis')\n"
     ]
    },
    {
     "data": {
      "text/plain": [
       "Text(0.5, 0, 'Attack Type')"
      ]
     },
     "execution_count": 13,
     "metadata": {},
     "output_type": "execute_result"
    },
    {
     "data": {
      "image/png": "[encoded data removed]",
      "text/plain": [
       "<Figure size 1200x600 with 1 Axes>"
      ]
     },
     "metadata": {},
     "output_type": "display_data"
    }
   ],
   "source": [
    "labels = list(label_counter.keys())\n",
    "counts = list(label_counter.values())\n",
    "plt.figure(figsize=(12, 6))\n",
    "sns.barplot(x=labels, y=counts, palette='viridis')\n",
    "plt.xticks(rotation=90)\n",
    "plt.xlabel('Attack Type')   \n"
   ]
  },
  {
   "cell_type": "code",
   "execution_count": 14,
   "id": "0440a712",
   "metadata": {},
   "outputs": [
    {
     "data": {
      "text/plain": [
       "Counter({0: 41430383,\n",
       "         1: 809614,\n",
       "         2: 215577,\n",
       "         4: 107569,\n",
       "         3: 54697,\n",
       "         5: 20484,\n",
       "         8: 5626,\n",
       "         6: 4952,\n",
       "         9: 3624,\n",
       "         7: 1510})"
      ]
     },
     "execution_count": 14,
     "metadata": {},
     "output_type": "execute_result"
    }
   ],
   "source": [
    "label_counter\n"
   ]
  },
  {
   "cell_type": "markdown",
   "id": "2b0f7972",
   "metadata": {},
   "source": [
    "### So, the classes are hugely imbalanced. So, we need to perform some techniques for mitigating this unbalanced problem"
   ]
  },
  {
   "cell_type": "markdown",
   "id": "10b7d6c2",
   "metadata": {},
   "source": [
    "## *Payload Length Distribution*"
   ]
  },
  {
   "cell_type": "code",
   "execution_count": 6,
   "id": "5d1d8a72",
   "metadata": {},
   "outputs": [
    {
     "name": "stderr",
     "output_type": "stream",
     "text": [
      "  0%|          | 0/18 [00:00<?, ?it/s]"
     ]
    },
    {
     "name": "stdout",
     "output_type": "stream",
     "text": [
      "Processing file: Payload_Bytes_File_3.parquet\n"
     ]
    },
    {
     "name": "stderr",
     "output_type": "stream",
     "text": [
      "  6%|▌         | 1/18 [00:26<07:33, 26.69s/it]"
     ]
    },
    {
     "name": "stdout",
     "output_type": "stream",
     "text": [
      "Processing file: Payload_Bytes_File_4.parquet\n"
     ]
    },
    {
     "name": "stderr",
     "output_type": "stream",
     "text": [
      " 11%|█         | 2/18 [00:52<07:01, 26.36s/it]"
     ]
    },
    {
     "name": "stdout",
     "output_type": "stream",
     "text": [
      "Processing file: Payload_Bytes_File_18.parquet\n"
     ]
    },
    {
     "name": "stderr",
     "output_type": "stream",
     "text": [
      " 17%|█▋        | 3/18 [01:19<06:34, 26.30s/it]"
     ]
    },
    {
     "name": "stdout",
     "output_type": "stream",
     "text": [
      "Processing file: Payload_Bytes_File_14.parquet\n"
     ]
    },
    {
     "name": "stderr",
     "output_type": "stream",
     "text": [
      " 22%|██▏       | 4/18 [01:46<06:16, 26.86s/it]"
     ]
    },
    {
     "name": "stdout",
     "output_type": "stream",
     "text": [
      "Processing file: Payload_Bytes_File_1.parquet\n"
     ]
    },
    {
     "name": "stderr",
     "output_type": "stream",
     "text": [
      " 28%|██▊       | 5/18 [02:13<05:49, 26.92s/it]"
     ]
    },
    {
     "name": "stdout",
     "output_type": "stream",
     "text": [
      "Processing file: Payload_Bytes_File_15.parquet\n"
     ]
    },
    {
     "name": "stderr",
     "output_type": "stream",
     "text": [
      " 33%|███▎      | 6/18 [02:40<05:23, 26.94s/it]"
     ]
    },
    {
     "name": "stdout",
     "output_type": "stream",
     "text": [
      "Processing file: Payload_Bytes_File_9.parquet\n"
     ]
    },
    {
     "name": "stderr",
     "output_type": "stream",
     "text": [
      " 39%|███▉      | 7/18 [03:07<04:54, 26.78s/it]"
     ]
    },
    {
     "name": "stdout",
     "output_type": "stream",
     "text": [
      "Processing file: Payload_Bytes_File_8.parquet\n"
     ]
    },
    {
     "name": "stderr",
     "output_type": "stream",
     "text": [
      " 44%|████▍     | 8/18 [03:33<04:26, 26.66s/it]"
     ]
    },
    {
     "name": "stdout",
     "output_type": "stream",
     "text": [
      "Processing file: Payload_Bytes_File_7.parquet\n"
     ]
    },
    {
     "name": "stderr",
     "output_type": "stream",
     "text": [
      " 50%|█████     | 9/18 [04:00<04:01, 26.86s/it]"
     ]
    },
    {
     "name": "stdout",
     "output_type": "stream",
     "text": [
      "Processing file: Payload_Bytes_File_17.parquet\n"
     ]
    },
    {
     "name": "stderr",
     "output_type": "stream",
     "text": [
      " 56%|█████▌    | 10/18 [04:29<03:38, 27.34s/it]"
     ]
    },
    {
     "name": "stdout",
     "output_type": "stream",
     "text": [
      "Processing file: Payload_Bytes_File_12.parquet\n"
     ]
    },
    {
     "name": "stderr",
     "output_type": "stream",
     "text": [
      " 61%|██████    | 11/18 [04:56<03:11, 27.36s/it]"
     ]
    },
    {
     "name": "stdout",
     "output_type": "stream",
     "text": [
      "Processing file: Payload_Bytes_File_5.parquet\n"
     ]
    },
    {
     "name": "stderr",
     "output_type": "stream",
     "text": [
      " 67%|██████▋   | 12/18 [05:24<02:45, 27.58s/it]"
     ]
    },
    {
     "name": "stdout",
     "output_type": "stream",
     "text": [
      "Processing file: Payload_Bytes_File_10.parquet\n"
     ]
    },
    {
     "name": "stderr",
     "output_type": "stream",
     "text": [
      " 72%|███████▏  | 13/18 [05:52<02:17, 27.58s/it]"
     ]
    },
    {
     "name": "stdout",
     "output_type": "stream",
     "text": [
      "Processing file: Payload_Bytes_File_2.parquet\n"
     ]
    },
    {
     "name": "stderr",
     "output_type": "stream",
     "text": [
      " 78%|███████▊  | 14/18 [06:19<01:50, 27.58s/it]"
     ]
    },
    {
     "name": "stdout",
     "output_type": "stream",
     "text": [
      "Processing file: Payload_Bytes_File_11.parquet\n"
     ]
    },
    {
     "name": "stderr",
     "output_type": "stream",
     "text": [
      " 83%|████████▎ | 15/18 [06:46<01:22, 27.38s/it]"
     ]
    },
    {
     "name": "stdout",
     "output_type": "stream",
     "text": [
      "Processing file: Payload_Bytes_File_13.parquet\n"
     ]
    },
    {
     "name": "stderr",
     "output_type": "stream",
     "text": [
      " 89%|████████▉ | 16/18 [07:20<00:58, 29.39s/it]"
     ]
    },
    {
     "name": "stdout",
     "output_type": "stream",
     "text": [
      "Processing file: Payload_Bytes_File_16.parquet\n"
     ]
    },
    {
     "name": "stderr",
     "output_type": "stream",
     "text": [
      "100%|██████████| 18/18 [07:56<00:00, 26.47s/it]\n"
     ]
    }
   ],
   "source": [
    "payload_lengths = []\n",
    "\n",
    "for file in tqdm(os.listdir(parquet_dir)):\n",
    "    file_path = os.path.join(parquet_dir,file)\n",
    "    if file == \"Payload_Bytes_File_6.parquet\":\n",
    "        continue\n",
    "    file_parquet = pq.ParquetFile(file_path)\n",
    "    print(f\"Processing file: {file}\")\n",
    "    for row in range(file_parquet.num_row_groups):\n",
    "        df = file_parquet.read_row_group(row).to_pandas()\n",
    "        byte_columns = df.columns[df.columns.str.startswith(\"payload_byte_\")]\n",
    "        payload = df[byte_columns]\n",
    "        lengths = (payload != 0).sum(axis=1)\n",
    "        payload_lengths.extend(lengths.tolist())"
   ]
  },
  {
   "cell_type": "code",
   "execution_count": 4,
   "id": "8633190b",
   "metadata": {},
   "outputs": [],
   "source": [
    "payload_lengths.sort()"
   ]
  },
  {
   "cell_type": "code",
   "execution_count": null,
   "id": "8a93e1d3",
   "metadata": {},
   "outputs": [
    {
     "data": {
      "text/plain": [
       "42654036"
      ]
     },
     "execution_count": 6,
     "metadata": {},
     "output_type": "execute_result"
    }
   ],
   "source": [
    "payload_lengths"
   ]
  },
  {
   "cell_type": "code",
   "execution_count": 8,
   "id": "7cd250c5",
   "metadata": {},
   "outputs": [
    {
     "data": {
      "image/png": "[encoded data removed]",
      "text/plain": [
       "<Figure size 1200x600 with 1 Axes>"
      ]
     },
     "metadata": {},
     "output_type": "display_data"
    },
    {
     "data": {
      "text/plain": [
       "<Figure size 640x480 with 0 Axes>"
      ]
     },
     "metadata": {},
     "output_type": "display_data"
    }
   ],
   "source": [
    "plt.figure(figsize=(12,6))\n",
    "plt.hist(payload_lengths, bins=100,color='blue', edgecolor='k',alpha=0.7)\n",
    "plt.title(\"Distribution of Payload Lengths\")\n",
    "plt.xlabel(\"Payload Length (non-zero bytes)\")\n",
    "plt.ylabel(\"Number of Packets\")\n",
    "plt.grid(axis='y', linestyle='--', alpha=0.7)\n",
    "plt.tight_layout()\n",
    "plt.show()\n",
    "plt.savefig(\"payload_lengths_distribution.png\", dpi=300)"
   ]
  },
  {
   "cell_type": "markdown",
   "id": "c821a6aa",
   "metadata": {},
   "source": [
    "### Byte value frequency Patterns per Class"
   ]
  },
  {
   "cell_type": "code",
   "execution_count": 12,
   "id": "f73530a7",
   "metadata": {},
   "outputs": [
    {
     "name": "stderr",
     "output_type": "stream",
     "text": [
      "  0%|          | 0/18 [00:00<?, ?it/s]"
     ]
    },
    {
     "name": "stdout",
     "output_type": "stream",
     "text": [
      "Processing file: Payload_Bytes_File_3.parquet\n"
     ]
    },
    {
     "name": "stderr",
     "output_type": "stream",
     "text": [
      "  6%|▌         | 1/18 [00:47<13:34, 47.94s/it]"
     ]
    },
    {
     "name": "stdout",
     "output_type": "stream",
     "text": [
      "Processing file: Payload_Bytes_File_4.parquet\n"
     ]
    },
    {
     "name": "stderr",
     "output_type": "stream",
     "text": [
      " 11%|█         | 2/18 [01:48<14:43, 55.25s/it]"
     ]
    },
    {
     "name": "stdout",
     "output_type": "stream",
     "text": [
      "Processing file: Payload_Bytes_File_18.parquet\n"
     ]
    },
    {
     "name": "stderr",
     "output_type": "stream",
     "text": [
      " 17%|█▋        | 3/18 [02:45<14:01, 56.10s/it]"
     ]
    },
    {
     "name": "stdout",
     "output_type": "stream",
     "text": [
      "Processing file: Payload_Bytes_File_14.parquet\n"
     ]
    },
    {
     "name": "stderr",
     "output_type": "stream",
     "text": [
      " 22%|██▏       | 4/18 [03:55<14:20, 61.43s/it]"
     ]
    },
    {
     "name": "stdout",
     "output_type": "stream",
     "text": [
      "Processing file: Payload_Bytes_File_1.parquet\n"
     ]
    },
    {
     "name": "stderr",
     "output_type": "stream",
     "text": [
      " 28%|██▊       | 5/18 [05:12<14:33, 67.21s/it]"
     ]
    },
    {
     "name": "stdout",
     "output_type": "stream",
     "text": [
      "Processing file: Payload_Bytes_File_15.parquet\n"
     ]
    },
    {
     "name": "stderr",
     "output_type": "stream",
     "text": [
      " 33%|███▎      | 6/18 [06:09<12:44, 63.74s/it]"
     ]
    },
    {
     "name": "stdout",
     "output_type": "stream",
     "text": [
      "Processing file: Payload_Bytes_File_9.parquet\n"
     ]
    },
    {
     "name": "stderr",
     "output_type": "stream",
     "text": [
      " 39%|███▉      | 7/18 [06:58<10:48, 58.94s/it]"
     ]
    },
    {
     "name": "stdout",
     "output_type": "stream",
     "text": [
      "Processing file: Payload_Bytes_File_8.parquet\n"
     ]
    },
    {
     "name": "stderr",
     "output_type": "stream",
     "text": [
      " 44%|████▍     | 8/18 [07:46<09:14, 55.42s/it]"
     ]
    },
    {
     "name": "stdout",
     "output_type": "stream",
     "text": [
      "Processing file: Payload_Bytes_File_7.parquet\n"
     ]
    },
    {
     "name": "stderr",
     "output_type": "stream",
     "text": [
      " 50%|█████     | 9/18 [08:34<07:59, 53.24s/it]"
     ]
    },
    {
     "name": "stdout",
     "output_type": "stream",
     "text": [
      "Processing file: Payload_Bytes_File_17.parquet\n"
     ]
    },
    {
     "name": "stderr",
     "output_type": "stream",
     "text": [
      " 56%|█████▌    | 10/18 [09:22<06:52, 51.53s/it]"
     ]
    },
    {
     "name": "stdout",
     "output_type": "stream",
     "text": [
      "Processing file: Payload_Bytes_File_12.parquet\n"
     ]
    },
    {
     "name": "stderr",
     "output_type": "stream",
     "text": [
      " 61%|██████    | 11/18 [10:10<05:53, 50.46s/it]"
     ]
    },
    {
     "name": "stdout",
     "output_type": "stream",
     "text": [
      "Processing file: Payload_Bytes_File_5.parquet\n"
     ]
    },
    {
     "name": "stderr",
     "output_type": "stream",
     "text": [
      " 67%|██████▋   | 12/18 [10:59<04:59, 49.91s/it]"
     ]
    },
    {
     "name": "stdout",
     "output_type": "stream",
     "text": [
      "Processing file: Payload_Bytes_File_10.parquet\n"
     ]
    },
    {
     "name": "stderr",
     "output_type": "stream",
     "text": [
      " 72%|███████▏  | 13/18 [11:47<04:07, 49.43s/it]"
     ]
    },
    {
     "name": "stdout",
     "output_type": "stream",
     "text": [
      "Processing file: Payload_Bytes_File_2.parquet\n"
     ]
    },
    {
     "name": "stderr",
     "output_type": "stream",
     "text": [
      " 78%|███████▊  | 14/18 [12:36<03:16, 49.17s/it]"
     ]
    },
    {
     "name": "stdout",
     "output_type": "stream",
     "text": [
      "Processing file: Payload_Bytes_File_11.parquet\n"
     ]
    },
    {
     "name": "stderr",
     "output_type": "stream",
     "text": [
      " 83%|████████▎ | 15/18 [13:24<02:26, 48.89s/it]"
     ]
    },
    {
     "name": "stdout",
     "output_type": "stream",
     "text": [
      "Processing file: Payload_Bytes_File_13.parquet\n"
     ]
    },
    {
     "name": "stderr",
     "output_type": "stream",
     "text": [
      " 89%|████████▉ | 16/18 [14:12<01:37, 48.75s/it]"
     ]
    },
    {
     "name": "stdout",
     "output_type": "stream",
     "text": [
      "Processing file: Payload_Bytes_File_16.parquet\n"
     ]
    },
    {
     "name": "stderr",
     "output_type": "stream",
     "text": [
      "100%|██████████| 18/18 [15:02<00:00, 50.15s/it]\n"
     ]
    }
   ],
   "source": [
    "#Accumulators\n",
    "byte_freq_per_class = collections.defaultdict(lambda:np.zeros(256,dtype=np.uint64))\n",
    "class_sample_count = collections.defaultdict(int)\n",
    "\n",
    "for file in tqdm(os.listdir(parquet_dir)):\n",
    "    file_path = os.path.join(parquet_dir,file)\n",
    "    if file == \"Payload_Bytes_File_6.parquet\":\n",
    "        continue\n",
    "    file_parquet = pq.ParquetFile(file_path)\n",
    "    print(f\"Processing file: {file}\")\n",
    "    for row in range(file_parquet.num_row_groups):\n",
    "        df = file_parquet.read_row_group(row).to_pandas()\n",
    "\n",
    "        label_col = df['attack_type']\n",
    "        byte_columns = df.columns[df.columns.str.startswith(\"payload_byte_\")]\n",
    "        payload = df[byte_columns].values\n",
    "        \n",
    "        for label in np.unique(label_col):\n",
    "            class_mask = label_col == label\n",
    "            class_data = payload[class_mask]\n",
    "\n",
    "            #Flatten and count byte values\n",
    "            byte_counts = np.bincount(class_data.ravel(),minlength = 256).astype(np.uint64)\n",
    "            byte_freq_per_class[label] += byte_counts\n",
    "            class_sample_count[label] += class_data.shape[0]"
   ]
  },
  {
   "cell_type": "code",
   "execution_count": 15,
   "id": "56950e6c",
   "metadata": {},
   "outputs": [],
   "source": [
    "# Normalize frequency by number of samples in each class\n",
    "\n",
    "normalized_freq = {\n",
    "    label:freq/class_sample_count[label]\n",
    "    for label,freq in byte_freq_per_class.items()\n",
    "}\n",
    "\n",
    "#Convert to DataFrame for heatmap\n",
    "df_byte_freq = pd.DataFrame(normalized_freq).T\n",
    "df_byte_freq.columns = [f'byte_{i}' for i in range(256)]"
   ]
  },
  {
   "cell_type": "code",
   "execution_count": 16,
   "id": "7c761138",
   "metadata": {},
   "outputs": [
    {
     "data": {
      "text/html": [
       "<div>\n",
       "<style scoped>\n",
       "    .dataframe tbody tr th:only-of-type {\n",
       "        vertical-align: middle;\n",
       "    }\n",
       "\n",
       "    .dataframe tbody tr th {\n",
       "        vertical-align: top;\n",
       "    }\n",
       "\n",
       "    .dataframe thead th {\n",
       "        text-align: right;\n",
       "    }\n",
       "</style>\n",
       "<table border=\"1\" class=\"dataframe\">\n",
       "  <thead>\n",
       "    <tr style=\"text-align: right;\">\n",
       "      <th></th>\n",
       "      <th>byte_0</th>\n",
       "      <th>byte_1</th>\n",
       "      <th>byte_2</th>\n",
       "      <th>byte_3</th>\n",
       "      <th>byte_4</th>\n",
       "      <th>byte_5</th>\n",
       "      <th>byte_6</th>\n",
       "      <th>byte_7</th>\n",
       "      <th>byte_8</th>\n",
       "      <th>byte_9</th>\n",
       "      <th>...</th>\n",
       "      <th>byte_246</th>\n",
       "      <th>byte_247</th>\n",
       "      <th>byte_248</th>\n",
       "      <th>byte_249</th>\n",
       "      <th>byte_250</th>\n",
       "      <th>byte_251</th>\n",
       "      <th>byte_252</th>\n",
       "      <th>byte_253</th>\n",
       "      <th>byte_254</th>\n",
       "      <th>byte_255</th>\n",
       "    </tr>\n",
       "  </thead>\n",
       "  <tbody>\n",
       "    <tr>\n",
       "      <th>0</th>\n",
       "      <td>633.432948</td>\n",
       "      <td>3.595160</td>\n",
       "      <td>3.400704</td>\n",
       "      <td>3.265391</td>\n",
       "      <td>3.189778</td>\n",
       "      <td>3.080223</td>\n",
       "      <td>3.128002</td>\n",
       "      <td>3.072315</td>\n",
       "      <td>3.076042</td>\n",
       "      <td>3.120873</td>\n",
       "      <td>...</td>\n",
       "      <td>3.012034</td>\n",
       "      <td>3.072069</td>\n",
       "      <td>3.023270</td>\n",
       "      <td>3.054981</td>\n",
       "      <td>3.094784</td>\n",
       "      <td>3.073630</td>\n",
       "      <td>3.024400</td>\n",
       "      <td>3.101942</td>\n",
       "      <td>3.074930</td>\n",
       "      <td>3.829804</td>\n",
       "    </tr>\n",
       "    <tr>\n",
       "      <th>1</th>\n",
       "      <td>417.476782</td>\n",
       "      <td>0.725985</td>\n",
       "      <td>0.499000</td>\n",
       "      <td>0.304844</td>\n",
       "      <td>0.467482</td>\n",
       "      <td>0.292190</td>\n",
       "      <td>0.261962</td>\n",
       "      <td>0.286039</td>\n",
       "      <td>0.379094</td>\n",
       "      <td>0.550472</td>\n",
       "      <td>...</td>\n",
       "      <td>0.172072</td>\n",
       "      <td>0.216996</td>\n",
       "      <td>0.271822</td>\n",
       "      <td>0.194526</td>\n",
       "      <td>0.185097</td>\n",
       "      <td>0.261894</td>\n",
       "      <td>0.216082</td>\n",
       "      <td>0.192073</td>\n",
       "      <td>0.211112</td>\n",
       "      <td>4.250422</td>\n",
       "    </tr>\n",
       "    <tr>\n",
       "      <th>2</th>\n",
       "      <td>421.006633</td>\n",
       "      <td>0.327215</td>\n",
       "      <td>0.179013</td>\n",
       "      <td>0.143239</td>\n",
       "      <td>0.130691</td>\n",
       "      <td>0.101713</td>\n",
       "      <td>0.117104</td>\n",
       "      <td>0.084527</td>\n",
       "      <td>0.090524</td>\n",
       "      <td>0.097612</td>\n",
       "      <td>...</td>\n",
       "      <td>0.106106</td>\n",
       "      <td>0.101903</td>\n",
       "      <td>0.113556</td>\n",
       "      <td>0.105280</td>\n",
       "      <td>0.105860</td>\n",
       "      <td>0.102242</td>\n",
       "      <td>0.111362</td>\n",
       "      <td>0.103253</td>\n",
       "      <td>0.113444</td>\n",
       "      <td>1.308140</td>\n",
       "    </tr>\n",
       "    <tr>\n",
       "      <th>3</th>\n",
       "      <td>878.113955</td>\n",
       "      <td>2.442894</td>\n",
       "      <td>17.018118</td>\n",
       "      <td>1.738724</td>\n",
       "      <td>2.079566</td>\n",
       "      <td>1.558513</td>\n",
       "      <td>1.614421</td>\n",
       "      <td>1.493299</td>\n",
       "      <td>1.642375</td>\n",
       "      <td>1.470940</td>\n",
       "      <td>...</td>\n",
       "      <td>0.624696</td>\n",
       "      <td>0.617968</td>\n",
       "      <td>0.675905</td>\n",
       "      <td>0.631735</td>\n",
       "      <td>0.635318</td>\n",
       "      <td>0.630857</td>\n",
       "      <td>0.663492</td>\n",
       "      <td>0.646909</td>\n",
       "      <td>0.661736</td>\n",
       "      <td>17.731923</td>\n",
       "    </tr>\n",
       "    <tr>\n",
       "      <th>4</th>\n",
       "      <td>446.103534</td>\n",
       "      <td>9.055778</td>\n",
       "      <td>6.961569</td>\n",
       "      <td>7.735128</td>\n",
       "      <td>4.784352</td>\n",
       "      <td>3.846629</td>\n",
       "      <td>4.043479</td>\n",
       "      <td>3.537999</td>\n",
       "      <td>3.508343</td>\n",
       "      <td>3.453281</td>\n",
       "      <td>...</td>\n",
       "      <td>2.702693</td>\n",
       "      <td>2.868540</td>\n",
       "      <td>2.979771</td>\n",
       "      <td>2.907092</td>\n",
       "      <td>3.625933</td>\n",
       "      <td>2.934275</td>\n",
       "      <td>3.239456</td>\n",
       "      <td>3.061105</td>\n",
       "      <td>3.677314</td>\n",
       "      <td>22.827711</td>\n",
       "    </tr>\n",
       "    <tr>\n",
       "      <th>5</th>\n",
       "      <td>1347.168571</td>\n",
       "      <td>1.760838</td>\n",
       "      <td>1.849102</td>\n",
       "      <td>1.154511</td>\n",
       "      <td>0.530512</td>\n",
       "      <td>0.455282</td>\n",
       "      <td>0.515817</td>\n",
       "      <td>0.283343</td>\n",
       "      <td>0.278364</td>\n",
       "      <td>0.323374</td>\n",
       "      <td>...</td>\n",
       "      <td>0.252978</td>\n",
       "      <td>0.277729</td>\n",
       "      <td>0.265720</td>\n",
       "      <td>0.273091</td>\n",
       "      <td>0.253905</td>\n",
       "      <td>0.267721</td>\n",
       "      <td>0.332601</td>\n",
       "      <td>0.303700</td>\n",
       "      <td>0.289690</td>\n",
       "      <td>9.207772</td>\n",
       "    </tr>\n",
       "    <tr>\n",
       "      <th>7</th>\n",
       "      <td>1336.892053</td>\n",
       "      <td>2.026490</td>\n",
       "      <td>1.823179</td>\n",
       "      <td>0.735099</td>\n",
       "      <td>0.896689</td>\n",
       "      <td>0.401987</td>\n",
       "      <td>0.256954</td>\n",
       "      <td>0.713245</td>\n",
       "      <td>0.870861</td>\n",
       "      <td>0.350331</td>\n",
       "      <td>...</td>\n",
       "      <td>0.217881</td>\n",
       "      <td>0.106623</td>\n",
       "      <td>0.921192</td>\n",
       "      <td>0.274172</td>\n",
       "      <td>0.228477</td>\n",
       "      <td>0.190066</td>\n",
       "      <td>0.713907</td>\n",
       "      <td>0.316556</td>\n",
       "      <td>0.800662</td>\n",
       "      <td>5.218543</td>\n",
       "    </tr>\n",
       "    <tr>\n",
       "      <th>8</th>\n",
       "      <td>1215.610025</td>\n",
       "      <td>2.094383</td>\n",
       "      <td>2.389086</td>\n",
       "      <td>1.624067</td>\n",
       "      <td>1.713473</td>\n",
       "      <td>1.298969</td>\n",
       "      <td>0.692677</td>\n",
       "      <td>0.695343</td>\n",
       "      <td>0.672058</td>\n",
       "      <td>0.681301</td>\n",
       "      <td>...</td>\n",
       "      <td>0.348383</td>\n",
       "      <td>0.394419</td>\n",
       "      <td>0.423391</td>\n",
       "      <td>0.372023</td>\n",
       "      <td>0.350515</td>\n",
       "      <td>0.386776</td>\n",
       "      <td>0.613224</td>\n",
       "      <td>0.548702</td>\n",
       "      <td>0.467117</td>\n",
       "      <td>32.689655</td>\n",
       "    </tr>\n",
       "    <tr>\n",
       "      <th>6</th>\n",
       "      <td>487.423869</td>\n",
       "      <td>13.625606</td>\n",
       "      <td>7.522011</td>\n",
       "      <td>5.712843</td>\n",
       "      <td>12.924475</td>\n",
       "      <td>3.578554</td>\n",
       "      <td>3.419628</td>\n",
       "      <td>4.195477</td>\n",
       "      <td>20.649838</td>\n",
       "      <td>6.904483</td>\n",
       "      <td>...</td>\n",
       "      <td>2.699919</td>\n",
       "      <td>4.287157</td>\n",
       "      <td>2.950727</td>\n",
       "      <td>1.628837</td>\n",
       "      <td>2.724152</td>\n",
       "      <td>4.315832</td>\n",
       "      <td>3.264943</td>\n",
       "      <td>4.002625</td>\n",
       "      <td>10.082391</td>\n",
       "      <td>118.759895</td>\n",
       "    </tr>\n",
       "    <tr>\n",
       "      <th>9</th>\n",
       "      <td>1218.608720</td>\n",
       "      <td>1.461369</td>\n",
       "      <td>1.723510</td>\n",
       "      <td>1.120309</td>\n",
       "      <td>1.128863</td>\n",
       "      <td>0.719647</td>\n",
       "      <td>0.461369</td>\n",
       "      <td>0.520695</td>\n",
       "      <td>0.469647</td>\n",
       "      <td>3.681567</td>\n",
       "      <td>...</td>\n",
       "      <td>0.305188</td>\n",
       "      <td>0.265453</td>\n",
       "      <td>0.304912</td>\n",
       "      <td>0.363687</td>\n",
       "      <td>0.223510</td>\n",
       "      <td>0.263797</td>\n",
       "      <td>0.391832</td>\n",
       "      <td>0.309603</td>\n",
       "      <td>0.352649</td>\n",
       "      <td>25.171909</td>\n",
       "    </tr>\n",
       "  </tbody>\n",
       "</table>\n",
       "<p>10 rows × 256 columns</p>\n",
       "</div>"
      ],
      "text/plain": [
       "        byte_0     byte_1     byte_2    byte_3     byte_4    byte_5    byte_6  \\\n",
       "0   633.432948   3.595160   3.400704  3.265391   3.189778  3.080223  3.128002   \n",
       "1   417.476782   0.725985   0.499000  0.304844   0.467482  0.292190  0.261962   \n",
       "2   421.006633   0.327215   0.179013  0.143239   0.130691  0.101713  0.117104   \n",
       "3   878.113955   2.442894  17.018118  1.738724   2.079566  1.558513  1.614421   \n",
       "4   446.103534   9.055778   6.961569  7.735128   4.784352  3.846629  4.043479   \n",
       "5  1347.168571   1.760838   1.849102  1.154511   0.530512  0.455282  0.515817   \n",
       "7  1336.892053   2.026490   1.823179  0.735099   0.896689  0.401987  0.256954   \n",
       "8  1215.610025   2.094383   2.389086  1.624067   1.713473  1.298969  0.692677   \n",
       "6   487.423869  13.625606   7.522011  5.712843  12.924475  3.578554  3.419628   \n",
       "9  1218.608720   1.461369   1.723510  1.120309   1.128863  0.719647  0.461369   \n",
       "\n",
       "     byte_7     byte_8    byte_9  ...  byte_246  byte_247  byte_248  byte_249  \\\n",
       "0  3.072315   3.076042  3.120873  ...  3.012034  3.072069  3.023270  3.054981   \n",
       "1  0.286039   0.379094  0.550472  ...  0.172072  0.216996  0.271822  0.194526   \n",
       "2  0.084527   0.090524  0.097612  ...  0.106106  0.101903  0.113556  0.105280   \n",
       "3  1.493299   1.642375  1.470940  ...  0.624696  0.617968  0.675905  0.631735   \n",
       "4  3.537999   3.508343  3.453281  ...  2.702693  2.868540  2.979771  2.907092   \n",
       "5  0.283343   0.278364  0.323374  ...  0.252978  0.277729  0.265720  0.273091   \n",
       "7  0.713245   0.870861  0.350331  ...  0.217881  0.106623  0.921192  0.274172   \n",
       "8  0.695343   0.672058  0.681301  ...  0.348383  0.394419  0.423391  0.372023   \n",
       "6  4.195477  20.649838  6.904483  ...  2.699919  4.287157  2.950727  1.628837   \n",
       "9  0.520695   0.469647  3.681567  ...  0.305188  0.265453  0.304912  0.363687   \n",
       "\n",
       "   byte_250  byte_251  byte_252  byte_253   byte_254    byte_255  \n",
       "0  3.094784  3.073630  3.024400  3.101942   3.074930    3.829804  \n",
       "1  0.185097  0.261894  0.216082  0.192073   0.211112    4.250422  \n",
       "2  0.105860  0.102242  0.111362  0.103253   0.113444    1.308140  \n",
       "3  0.635318  0.630857  0.663492  0.646909   0.661736   17.731923  \n",
       "4  3.625933  2.934275  3.239456  3.061105   3.677314   22.827711  \n",
       "5  0.253905  0.267721  0.332601  0.303700   0.289690    9.207772  \n",
       "7  0.228477  0.190066  0.713907  0.316556   0.800662    5.218543  \n",
       "8  0.350515  0.386776  0.613224  0.548702   0.467117   32.689655  \n",
       "6  2.724152  4.315832  3.264943  4.002625  10.082391  118.759895  \n",
       "9  0.223510  0.263797  0.391832  0.309603   0.352649   25.171909  \n",
       "\n",
       "[10 rows x 256 columns]"
      ]
     },
     "execution_count": 16,
     "metadata": {},
     "output_type": "execute_result"
    }
   ],
   "source": [
    "df_byte_freq"
   ]
  },
  {
   "cell_type": "code",
   "execution_count": 17,
   "id": "8fb55772",
   "metadata": {},
   "outputs": [
    {
     "data": {
      "image/png": "[encoded data removed]",
      "text/plain": [
       "<Figure size 1400x600 with 2 Axes>"
      ]
     },
     "metadata": {},
     "output_type": "display_data"
    }
   ],
   "source": [
    "plt.figure(figsize=(14, 6))\n",
    "sns.heatmap(df_byte_freq, cmap='magma', xticklabels=32)\n",
    "plt.title(\"Average Byte Value Frequency per Class\")\n",
    "plt.xlabel(\"Byte Value (0–255)\")\n",
    "plt.ylabel(\"Attack Class\")\n",
    "plt.tight_layout()\n",
    "plt.savefig(\"byte_frequency_per_class_heatmap.png\", dpi=300)\n",
    "plt.show()"
   ]
  },
  {
   "cell_type": "code",
   "execution_count": 22,
   "id": "885e5fff",
   "metadata": {},
   "outputs": [
    {
     "data": {
      "image/png": "[encoded data removed]",
      "text/plain": [
       "<Figure size 1200x600 with 1 Axes>"
      ]
     },
     "metadata": {},
     "output_type": "display_data"
    }
   ],
   "source": [
    "int_to_label = {\n",
    "    0: 'normal',\n",
    "    1: 'exploits',\n",
    "    2: 'dos',\n",
    "    3: 'fuzzers',\n",
    "    4: 'generic',\n",
    "    5: 'reconnaissance',\n",
    "    6: 'worms',\n",
    "    7: 'shellcode',\n",
    "    8: 'backdoor',\n",
    "    9: 'analysis'\n",
    "}\n",
    "\n",
    "plt.figure(figsize=(12, 6))\n",
    "\n",
    "for label_id in range(10):\n",
    "    label_name = int_to_label[label_id]\n",
    "    plt.plot(range(256), df_byte_freq.loc[label_id], label=f\"{label_id} ({label_name})\")\n",
    "\n",
    "plt.title(\"Byte Value Frequency Distribution per Class\")\n",
    "plt.xlabel(\"Byte Value (0–255)\")\n",
    "plt.ylabel(\"Average Frequency per Sample\")\n",
    "plt.legend(title=\"Label ID (Class)\")\n",
    "plt.grid(True)\n",
    "plt.tight_layout()\n",
    "plt.savefig(\"byte_value_frequency_per_class.png\", dpi=300)\n",
    "plt.show()"
   ]
  },
  {
   "cell_type": "code",
   "execution_count": null,
   "id": "bfe8cb84",
   "metadata": {},
   "outputs": [],
   "source": []
  }
 ],
 "metadata": {
  "kernelspec": {
   "display_name": ".py_torch",
   "language": "python",
   "name": "python3"
  },
  "language_info": {
   "codemirror_mode": {
    "name": "ipython",
    "version": 3
   },
   "file_extension": ".py",
   "mimetype": "text/x-python",
   "name": "python",
   "nbconvert_exporter": "python",
   "pygments_lexer": "ipython3",
   "version": "3.12.3"
  }
 },
 "nbformat": 4,
 "nbformat_minor": 5
}

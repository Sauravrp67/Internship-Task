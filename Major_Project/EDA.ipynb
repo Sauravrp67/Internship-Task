{
 "cells": [
  {
   "cell_type": "code",
   "execution_count": null,
   "id": "644a394f",
   "metadata": {},
   "outputs": [],
   "source": [
    "import numpy as np\n",
    "import matplotlib.pyplot as plt\n",
    "import seaborn as sns\n",
    "import os\n",
    "import pandas as pd\n",
    "import pyarrow as pa\n",
    "import pyarrow.parquet as pq\n",
    "from tqdm import tqdm\n",
    "import gc\n",
    "import collections "
   ]
  },
  {
   "cell_type": "markdown",
   "id": "c91709dc",
   "metadata": {},
   "source": [
    "#### Exploring the dataset and looking if the dataset could be generate biases in the model towards it."
   ]
  },
  {
   "cell_type": "markdown",
   "id": "23170041",
   "metadata": {},
   "source": [
    "#### Counting the Number of malicious and normal labels across all the "
   ]
  },
  {
   "cell_type": "code",
   "execution_count": 60,
   "id": "c3027434",
   "metadata": {},
   "outputs": [],
   "source": [
    "parquet_dir = \"/home/saurav/Desktop/Internship/Internship-Task/Major_Project/UNSW-NB15/Payload-Bytes-Modified/\"\n",
    "label_counter = collections.Counter()"
   ]
  },
  {
   "cell_type": "code",
   "execution_count": null,
   "metadata": {},
   "outputs": [
    {
     "name": "stdout",
     "output_type": "stream",
     "text": [
      "Processing file:1 Payload_Bytes_File_3.parquet\n"
     ]
    }
   ],
   "source": [
    "#For multiclassification\n",
    "for i,fname in enumerate(os.listdir(parquet_dir)):\n",
    "    file_path = os.path.join(parquet_dir,fname)\n",
    "    if fname == \"Payload_Bytes_File_6.parquet\":\n",
    "        continue\n",
    "    file_parquet= pq.ParquetFile(file_path)\n",
    "    print(f\"Processing file:{i + 1} {fname}\")\n",
    "    for row in range(file_parquet.num_row_groups):\n",
    "        row_data = file_parquet.read_row_group(row).to_pandas()\n",
    "        label_counter.update(row_data['attack_type'])\n",
    "            "
   ]
  },
  {
   "cell_type": "code",
   "execution_count": 78,
   "id": "f4f2a382",
   "metadata": {},
   "outputs": [
    {
     "name": "stdout",
     "output_type": "stream",
     "text": [
      "File 0 Completed\n",
      "File 1 Completed\n",
      "File 2 Completed\n",
      "File 3 Completed\n",
      "File 4 Completed\n",
      "File 6 Completed\n",
      "File 7 Completed\n",
      "File 8 Completed\n",
      "File 9 Completed\n",
      "File 10 Completed\n",
      "File 11 Completed\n",
      "File 12 Completed\n",
      "File 13 Completed\n",
      "File 14 Completed\n",
      "File 15 Completed\n",
      "File 16 Completed\n",
      "File 17 Completed\n"
     ]
    }
   ],
   "source": [
    "\n",
    "for ii,i in enumerate(range(1,19)):\n",
    "    \n",
    "    if ii == 5:\n",
    "        continue\n",
    "    file = pq.ParquetFile(f'./UNSW-NB15/Payload-Bytes-Modified/Payload_Bytes_File_{i}.parquet',memory_map = True)\n",
    "    print(f\"File {ii} Completed\")\n"
   ]
  },
  {
   "cell_type": "code",
   "execution_count": null,
   "id": "f6557bf0",
   "metadata": {},
   "outputs": [],
   "source": [
    "label_counts = collections.Counter()\n",
    "def count_labels(parquet_file):\n",
    "    global label_counts\n",
    "    for row_group in range(file.num_row_groups):\n",
    "        df = parquet_file.read_row_group(row_group,columns = [\"attack_type\",\"attack_label\"]).to_pandas()\n",
    "        label_counts.update( df['attack_label']) #counter().update() requires an iterable as input\n",
    "        label_counts.update(df['attack_type'])"
   ]
  },
  {
   "cell_type": "code",
   "execution_count": null,
   "id": "739bd928",
   "metadata": {},
   "outputs": [
    {
     "data": {
      "text/plain": [
       "26"
      ]
     },
     "execution_count": 47,
     "metadata": {},
     "output_type": "execute_result"
    }
   ],
   "source": [
    "file.num_row_groups"
   ]
  },
  {
   "cell_type": "code",
   "execution_count": null,
   "id": "74602c1b",
   "metadata": {},
   "outputs": [
    {
     "data": {
      "text/plain": [
       "Counter({0: 4775794,\n",
       "         1: 187997,\n",
       "         2: 21491,\n",
       "         3: 9586,\n",
       "         4: 8713,\n",
       "         5: 1150,\n",
       "         6: 663,\n",
       "         8: 297,\n",
       "         9: 189,\n",
       "         7: 152})"
      ]
     },
     "execution_count": 41,
     "metadata": {},
     "output_type": "execute_result"
    }
   ],
   "source": [
    "label_counts"
   ]
  },
  {
   "cell_type": "code",
   "execution_count": null,
   "id": "6821e54a",
   "metadata": {},
   "outputs": [],
   "source": []
  }
 ],
 "metadata": {
  "kernelspec": {
   "display_name": ".py_torch",
   "language": "python",
   "name": "python3"
  },
  "language_info": {
   "codemirror_mode": {
    "name": "ipython",
    "version": 3
   },
   "file_extension": ".py",
   "mimetype": "text/x-python",
   "name": "python",
   "nbconvert_exporter": "python",
   "pygments_lexer": "ipython3",
   "version": "3.12.3"
  }
 },
 "nbformat": 4,
 "nbformat_minor": 5
}

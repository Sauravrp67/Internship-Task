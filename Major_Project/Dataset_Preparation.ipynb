{
 "cells": [
  {
   "cell_type": "code",
   "execution_count": 2,
   "id": "d0289f1d",
   "metadata": {},
   "outputs": [],
   "source": [
    "import numpy as np\n",
    "import pandas as pd\n",
    "import os\n",
    "from ipaddress import IPv4Address, IPv6Address\n",
    "import pyarrow as pa\n",
    "import pyarrow.parquet as pq\n",
    "import gc\n",
    "import os\n"
   ]
  },
  {
   "cell_type": "code",
   "execution_count": 2,
   "id": "1dda9a20",
   "metadata": {},
   "outputs": [],
   "source": [
    "# The parquet file has IP addresses and Port Numbers, we need to strip away those values\n",
    "# and only keep the Payload Bytes. And we need to convert the attack\n",
    "\n",
    "output_schema = pa.schema([\n",
    "    *[pa.field(f\"payload_byte_{i}\",pa.uint8()) for i in range (1,1477)],\n",
    "    pa.field(\"attack_label\",pa.uint8()),\n",
    "    pa.field(\"attack_type\",pa.uint8()),\n",
    "])"
   ]
  },
  {
   "cell_type": "code",
   "execution_count": 3,
   "id": "5f427f75",
   "metadata": {},
   "outputs": [],
   "source": [
    "## Encoding the attack labels for multiclassification\n",
    "# labels into integers\n",
    "label_map  ={\n",
    "    'normal':0,\n",
    "    'exploits':1,\n",
    "    'dos':2,\n",
    "    'fuzzers':3,\n",
    "    'generic':4,\n",
    "    'reconnaissance':5,\n",
    "    'worms':6,\n",
    "    'shellcode':7,\n",
    "    'backdoor':8,\n",
    "    'analysis':9\n",
    "}"
   ]
  },
  {
   "cell_type": "code",
   "execution_count": 4,
   "id": "99dceb33",
   "metadata": {},
   "outputs": [
    {
     "name": "stdout",
     "output_type": "stream",
     "text": [
      "Processed Payload_Bytes_File_3.parquet and saved to /home/saurav/Desktop/Internship/MLP_Payload/UNSW-NB15/Payload-Bytes-Modified/Payload_Bytes_File_3.parquet\n",
      "Processed Payload_Bytes_File_4.parquet and saved to /home/saurav/Desktop/Internship/MLP_Payload/UNSW-NB15/Payload-Bytes-Modified/Payload_Bytes_File_4.parquet\n",
      "Processed Payload_Bytes_File_18.parquet and saved to /home/saurav/Desktop/Internship/MLP_Payload/UNSW-NB15/Payload-Bytes-Modified/Payload_Bytes_File_18.parquet\n",
      "Processed Payload_Bytes_File_14.parquet and saved to /home/saurav/Desktop/Internship/MLP_Payload/UNSW-NB15/Payload-Bytes-Modified/Payload_Bytes_File_14.parquet\n",
      "Processed Payload_Bytes_File_1.parquet and saved to /home/saurav/Desktop/Internship/MLP_Payload/UNSW-NB15/Payload-Bytes-Modified/Payload_Bytes_File_1.parquet\n",
      "Processed Payload_Bytes_File_15.parquet and saved to /home/saurav/Desktop/Internship/MLP_Payload/UNSW-NB15/Payload-Bytes-Modified/Payload_Bytes_File_15.parquet\n",
      "Processed Payload_Bytes_File_9.parquet and saved to /home/saurav/Desktop/Internship/MLP_Payload/UNSW-NB15/Payload-Bytes-Modified/Payload_Bytes_File_9.parquet\n",
      "Processed Payload_Bytes_File_8.parquet and saved to /home/saurav/Desktop/Internship/MLP_Payload/UNSW-NB15/Payload-Bytes-Modified/Payload_Bytes_File_8.parquet\n",
      "Processed Payload_Bytes_File_7.parquet and saved to /home/saurav/Desktop/Internship/MLP_Payload/UNSW-NB15/Payload-Bytes-Modified/Payload_Bytes_File_7.parquet\n",
      "Processed Payload_Bytes_File_17.parquet and saved to /home/saurav/Desktop/Internship/MLP_Payload/UNSW-NB15/Payload-Bytes-Modified/Payload_Bytes_File_17.parquet\n",
      "Processed Payload_Bytes_File_12.parquet and saved to /home/saurav/Desktop/Internship/MLP_Payload/UNSW-NB15/Payload-Bytes-Modified/Payload_Bytes_File_12.parquet\n",
      "Processed Payload_Bytes_File_5.parquet and saved to /home/saurav/Desktop/Internship/MLP_Payload/UNSW-NB15/Payload-Bytes-Modified/Payload_Bytes_File_5.parquet\n",
      "Processed Payload_Bytes_File_10.parquet and saved to /home/saurav/Desktop/Internship/MLP_Payload/UNSW-NB15/Payload-Bytes-Modified/Payload_Bytes_File_10.parquet\n",
      "Processed Payload_Bytes_File_2.parquet and saved to /home/saurav/Desktop/Internship/MLP_Payload/UNSW-NB15/Payload-Bytes-Modified/Payload_Bytes_File_2.parquet\n",
      "Processed Payload_Bytes_File_11.parquet and saved to /home/saurav/Desktop/Internship/MLP_Payload/UNSW-NB15/Payload-Bytes-Modified/Payload_Bytes_File_11.parquet\n",
      "Processed Payload_Bytes_File_13.parquet and saved to /home/saurav/Desktop/Internship/MLP_Payload/UNSW-NB15/Payload-Bytes-Modified/Payload_Bytes_File_13.parquet\n",
      "Processed Payload_Bytes_File_16.parquet and saved to /home/saurav/Desktop/Internship/MLP_Payload/UNSW-NB15/Payload-Bytes-Modified/Payload_Bytes_File_16.parquet\n",
      "Processed Payload_Bytes_File_6.parquet and saved to /home/saurav/Desktop/Internship/MLP_Payload/UNSW-NB15/Payload-Bytes-Modified/Payload_Bytes_File_6.parquet\n"
     ]
    }
   ],
   "source": [
    "parquet_dir = '/home/saurav/Desktop/Internship/MLP_Payload/UNSW-NB15/Payload-Bytes'\n",
    "modified_parquet_dir = '/home/saurav/Desktop/Internship/MLP_Payload/UNSW-NB15/Payload-Bytes-Modified'\n",
    "for file in os.listdir(parquet_dir):\n",
    "    input_file = os.path.join(parquet_dir, file)\n",
    "    output_file = os.path.join(modified_parquet_dir, file)\n",
    "    \n",
    "    writer = pq.ParquetWriter(output_file,schema=output_schema,compression=\"zstd\",version=\"2.6\",use_byte_stream_split=True,write_batch_size=100_000)\n",
    "    parquet = pq.ParquetFile(input_file,memory_map=True,buffer_size = 16384)\n",
    "\n",
    "    # We will read the parquet file in batches of 100,000 rows\n",
    "    # and write them to a new parquet file with the modified schema\n",
    "    # and labels.\n",
    "    # This is to avoid memory issues with large parquet files.\n",
    "    # We will also drop the IP addresses and Port Numbers columns\n",
    "    # and only keep the Payload Bytes.\n",
    "    # We will also convert the attack labels to integers\n",
    "    # and add a new column for the attack type.\n",
    "    # We will also convert the payload bytes to uint8\n",
    "    # and fill any missing values with 0.\n",
    "    for batch in parquet.iter_batches(batch_size=100_000):\n",
    "        df = batch.to_pandas()\n",
    "        df.drop(columns=['packet_id',\n",
    "                        'flow_id',\n",
    "                        'source_ip',\n",
    "                        'source_port',\n",
    "                        'destination_ip',\n",
    "                        'destination_port',\n",
    "                        'protocol',\n",
    "                        'payload_length'])\n",
    "        df.fillna(inplace=True, value=0)\n",
    "\n",
    "        df = (df.assign(\n",
    "            attack_type=df.pop(\"attack_label\").map(label_map),\n",
    "        ))\n",
    "        df = (df.assign(\n",
    "            attack_label=(df[\"attack_type\"] != 0).astype(np.uint8),\n",
    "        ))\n",
    "        byte_column = [col for col in df.columns if col.startswith(\"payload_byte_\")]\n",
    "        df[byte_column] = df[byte_column].astype(np.uint8)\n",
    "\n",
    "        table = pa.Table.from_pandas(df,schema=output_schema)\n",
    "        writer.write_table(table)\n",
    "        del df,batch\n",
    "        gc.collect()\n",
    "    print(f\"Processed {file} and saved to {output_file}\")\n",
    "    # parquet_file = pq.ParquetFile(input_file)\n",
    "\n",
    "    # print(parquet_file)"
   ]
  },
  {
   "cell_type": "code",
   "execution_count": 3,
   "id": "2c48bede",
   "metadata": {},
   "outputs": [],
   "source": [
    "test_file = pq.ParquetFile('./UNSW-NB15/Payload-Bytes-Modified/Payload_Bytes_File_1.parquet',memory_map=True,buffer_size=16384)\n"
   ]
  },
  {
   "cell_type": "code",
   "execution_count": 4,
   "id": "b280058f",
   "metadata": {},
   "outputs": [],
   "source": [
    "df = next(test_file.iter_batches(batch_size = 10000,)).to_pandas()"
   ]
  },
  {
   "cell_type": "code",
   "execution_count": null,
   "id": "9adb391b",
   "metadata": {},
   "outputs": [],
   "source": []
  }
 ],
 "metadata": {
  "kernelspec": {
   "display_name": ".venv",
   "language": "python",
   "name": "python3"
  },
  "language_info": {
   "codemirror_mode": {
    "name": "ipython",
    "version": 3
   },
   "file_extension": ".py",
   "mimetype": "text/x-python",
   "name": "python",
   "nbconvert_exporter": "python",
   "pygments_lexer": "ipython3",
   "version": "3.12.3"
  }
 },
 "nbformat": 4,
 "nbformat_minor": 5
}
